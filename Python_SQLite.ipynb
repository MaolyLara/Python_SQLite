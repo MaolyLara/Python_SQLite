{
  "nbformat": 4,
  "nbformat_minor": 0,
  "metadata": {
    "colab": {
      "private_outputs": true,
      "provenance": [],
      "authorship_tag": "ABX9TyPByziupbo9ICPZ9UsRIJVf",
      "include_colab_link": true
    },
    "kernelspec": {
      "name": "python3",
      "display_name": "Python 3"
    },
    "language_info": {
      "name": "python"
    }
  },
  "cells": [
    {
      "cell_type": "markdown",
      "metadata": {
        "id": "view-in-github",
        "colab_type": "text"
      },
      "source": [
        "<a href=\"https://colab.research.google.com/github/MaolyLara/Python_SQLite/blob/main/Python_SQLite.ipynb\" target=\"_parent\"><img src=\"https://colab.research.google.com/assets/colab-badge.svg\" alt=\"Open In Colab\"/></a>"
      ]
    },
    {
      "cell_type": "markdown",
      "source": [
        "## **Python - SQLite**"
      ],
      "metadata": {
        "id": "aTZBZKwR8VgE"
      }
    },
    {
      "cell_type": "code",
      "execution_count": null,
      "metadata": {
        "id": "rc2Qyg0x4sGi"
      },
      "outputs": [],
      "source": [
        "# https://drive.google.com/file/d/1rjJN2hwiA2_X3JeZHnmn5LBqSdMFOsjB/view?usp=sharing\n",
        "!gdown --id 1rjJN2hwiA2_X3JeZHnmn5LBqSdMFOsjB"
      ]
    },
    {
      "cell_type": "code",
      "source": [
        "import sqlite3\n"
      ],
      "metadata": {
        "id": "x_m42rey6WT4"
      },
      "execution_count": null,
      "outputs": []
    },
    {
      "cell_type": "code",
      "source": [
        "conexao = sqlite3.connect('amostraCNPJ.sqlite')"
      ],
      "metadata": {
        "id": "T1Hhlg0_6bym"
      },
      "execution_count": null,
      "outputs": []
    },
    {
      "cell_type": "code",
      "source": [
        "import pandas as pd"
      ],
      "metadata": {
        "id": "ZSzCIy0w6bwU"
      },
      "execution_count": null,
      "outputs": []
    },
    {
      "cell_type": "code",
      "source": [
        "tables = pd.read_sql_query(\"SELECT name FROM sqlite_master WHERE type ='table' \\\n",
        "                    AND name NOT LIKE 'sqlite_%'\", conexao)\n",
        "tables"
      ],
      "metadata": {
        "id": "MfpEk_4B6btt"
      },
      "execution_count": null,
      "outputs": []
    },
    {
      "cell_type": "code",
      "source": [
        "for table in tables.name:\n",
        "    columns = pd.read_sql_query(f\"PRAGMA table_info({table})\", conexao)\n",
        "    print(\"-----------------\")\n",
        "    print(table)\n",
        "    print(columns)"
      ],
      "metadata": {
        "id": "wlBf5Tf76bqp"
      },
      "execution_count": null,
      "outputs": []
    },
    {
      "cell_type": "code",
      "source": [
        "for table in tables.name:\n",
        "  print(pd.read_sql_query(f'PRAGMA table_info({table})', conexao).info())\n",
        "  print(pd.read_sql_query(f'PRAGMA table_info({table})', conexao))"
      ],
      "metadata": {
        "id": "ZGkALorRAXOm"
      },
      "execution_count": null,
      "outputs": []
    },
    {
      "cell_type": "code",
      "source": [
        "df = pd.read_sql_query('''SELECT razao_social\n",
        "                                     ,situacao_cadastral\n",
        "                                     ,cnpj\n",
        "                                     ,uf\n",
        "                                     ,capital_social_empresa\n",
        "                                     ,porte_empresa\n",
        "                                     ,cnae_fiscal\n",
        "                                     ,data_inicio_atividade\n",
        "                                     ,data_situacao_cadastral \n",
        "                                FROM cnpj_dados_cadastrais_pj ''', conexao)"
      ],
      "metadata": {
        "id": "SBNSEdoc6bn0"
      },
      "execution_count": null,
      "outputs": []
    },
    {
      "cell_type": "code",
      "source": [
        "df2 = pd.read_sql_query('''SELECT razao_social\n",
        "                                     ,situacao_cadastral\n",
        "                                     ,cnpj\n",
        "                                     ,uf\n",
        "                                     ,capital_social_empresa\n",
        "                                     ,porte_empresa\n",
        "                                     ,cnae_fiscal\n",
        "                                     ,data_inicio_atividade\n",
        "                                     ,data_situacao_cadastral \n",
        "                                FROM cnpj_dados_cadastrais_pj ''', conexao, chunksize=10000).__next__()\n",
        "df2.info()                   "
      ],
      "metadata": {
        "id": "BNtIvVw3C7X9"
      },
      "execution_count": null,
      "outputs": []
    },
    {
      "cell_type": "code",
      "source": [
        "df.info()"
      ],
      "metadata": {
        "id": "mEGSIYSf6bk5"
      },
      "execution_count": null,
      "outputs": []
    },
    {
      "cell_type": "code",
      "source": [
        "df.cnae_fiscal"
      ],
      "metadata": {
        "id": "haarLumx6bh5"
      },
      "execution_count": null,
      "outputs": []
    },
    {
      "cell_type": "code",
      "source": [
        "df"
      ],
      "metadata": {
        "id": "PQWUbxjq6bev"
      },
      "execution_count": null,
      "outputs": []
    },
    {
      "cell_type": "code",
      "source": [
        "df.head() #exemplo"
      ],
      "metadata": {
        "id": "R7EGaJyV6bbT"
      },
      "execution_count": null,
      "outputs": []
    },
    {
      "cell_type": "code",
      "source": [
        "df.filter(['razao_social'])"
      ],
      "metadata": {
        "id": "phljJpIF6bXG"
      },
      "execution_count": null,
      "outputs": []
    },
    {
      "cell_type": "code",
      "source": [
        "df_empty = pd.DataFrame({'razao_social': []})\n",
        "df_empty\n",
        "df_empty.empty"
      ],
      "metadata": {
        "id": "rNtbwddx6bUM"
      },
      "execution_count": null,
      "outputs": []
    },
    {
      "cell_type": "code",
      "source": [
        "import matplotlib.pyplot as plt\n"
      ],
      "metadata": {
        "id": "cMNNgynVUVzl"
      },
      "execution_count": null,
      "outputs": []
    },
    {
      "cell_type": "code",
      "source": [
        "df1 = df.razao_social.value_counts()\n",
        "plt.barh(df1[0:20].index, df1[0:20].values)"
      ],
      "metadata": {
        "id": "Fb1NhmkV6bLl"
      },
      "execution_count": null,
      "outputs": []
    },
    {
      "cell_type": "code",
      "source": [
        "df1 = df.razao_social.value_counts()\n",
        "plt.barh(df1[0:].index, df1[0:].values)"
      ],
      "metadata": {
        "id": "UoJIlfypVWMj"
      },
      "execution_count": null,
      "outputs": []
    },
    {
      "cell_type": "code",
      "source": [
        "df1 = df.razao_social.value_counts()\n",
        "plt.barh(df1[:].index, df1[:].values)"
      ],
      "metadata": {
        "id": "uIJn10q4WOpR"
      },
      "execution_count": null,
      "outputs": []
    },
    {
      "cell_type": "code",
      "source": [
        "df1 = df.razao_social.value_counts()\n",
        "df1"
      ],
      "metadata": {
        "id": "DmCanRw4XbqM"
      },
      "execution_count": null,
      "outputs": []
    },
    {
      "cell_type": "code",
      "source": [
        "df.razao_social.value_counts().plot(kind='barh')"
      ],
      "metadata": {
        "id": "XzEwiHAaXpr4"
      },
      "execution_count": null,
      "outputs": []
    },
    {
      "cell_type": "code",
      "source": [
        "df.cnpj.value_counts()"
      ],
      "metadata": {
        "id": "Yh7BJOVqXjmj"
      },
      "execution_count": null,
      "outputs": []
    },
    {
      "cell_type": "code",
      "source": [
        "df[df.cnae_fiscal == '6422100'].groupby(by=[\"razao_social\"])[\"razao_social\"].count()"
      ],
      "metadata": {
        "id": "yuhl5iqpb6-o"
      },
      "execution_count": null,
      "outputs": []
    },
    {
      "cell_type": "code",
      "source": [
        "df.describe(include='all')  "
      ],
      "metadata": {
        "id": "2TPUZvPcjbYK"
      },
      "execution_count": null,
      "outputs": []
    },
    {
      "cell_type": "code",
      "source": [
        "df.razao_social.describe()"
      ],
      "metadata": {
        "id": "L-FzQMaOjwWo"
      },
      "execution_count": null,
      "outputs": []
    },
    {
      "cell_type": "code",
      "source": [
        "df.describe()"
      ],
      "metadata": {
        "id": "dNrYk3QCkBcj"
      },
      "execution_count": null,
      "outputs": []
    },
    {
      "cell_type": "code",
      "source": [
        "import matplotlib.pyplot as plt\n"
      ],
      "metadata": {
        "id": "P2bKM9oXkazP"
      },
      "execution_count": null,
      "outputs": []
    },
    {
      "cell_type": "code",
      "source": [
        "coluna_seleccionada=['uf',\t'capital_social_empresa']"
      ],
      "metadata": {
        "id": "3vXVd0c88x7T"
      },
      "execution_count": null,
      "outputs": []
    },
    {
      "cell_type": "markdown",
      "source": [],
      "metadata": {
        "id": "0fZD1KSr_LSD"
      }
    },
    {
      "cell_type": "code",
      "source": [
        "df3= df.filter(items= coluna_seleccionada)"
      ],
      "metadata": {
        "id": "-1RNWlM09Y7c"
      },
      "execution_count": null,
      "outputs": []
    },
    {
      "cell_type": "code",
      "source": [
        "df3.head()"
      ],
      "metadata": {
        "id": "7VSvTCsX9wdE"
      },
      "execution_count": null,
      "outputs": []
    },
    {
      "cell_type": "code",
      "source": [
        "df3 = df3.dropna()"
      ],
      "metadata": {
        "id": "fYNKVtQ2_VXN"
      },
      "execution_count": null,
      "outputs": []
    },
    {
      "cell_type": "code",
      "source": [
        "df3.head()"
      ],
      "metadata": {
        "id": "OjkVhp-s_aNn"
      },
      "execution_count": null,
      "outputs": []
    },
    {
      "cell_type": "code",
      "source": [
        "df3.groupby('uf').count()"
      ],
      "metadata": {
        "id": "eurfwD8o_gWK"
      },
      "execution_count": null,
      "outputs": []
    },
    {
      "cell_type": "code",
      "source": [
        "df3.groupby('uf').max()"
      ],
      "metadata": {
        "id": "dxqdZfstAa-9"
      },
      "execution_count": null,
      "outputs": []
    },
    {
      "cell_type": "code",
      "source": [
        "df3.groupby('uf').min()"
      ],
      "metadata": {
        "id": "CKCvjjCZEkCu"
      },
      "execution_count": null,
      "outputs": []
    },
    {
      "cell_type": "code",
      "source": [
        "df3[df3.capital_social_empresa> 0].groupby('uf').min()"
      ],
      "metadata": {
        "id": "ysTblI7BEqAo"
      },
      "execution_count": null,
      "outputs": []
    },
    {
      "cell_type": "code",
      "source": [
        "df3.groupby('uf').mean()"
      ],
      "metadata": {
        "id": "IpDYx_4rGd5j"
      },
      "execution_count": null,
      "outputs": []
    },
    {
      "cell_type": "code",
      "source": [
        "df3.groupby('uf').median()"
      ],
      "metadata": {
        "id": "5XdmW9UiGxpd"
      },
      "execution_count": null,
      "outputs": []
    },
    {
      "cell_type": "code",
      "source": [
        "df3.groupby('uf').describe()"
      ],
      "metadata": {
        "id": "CktVUJcJG-gt"
      },
      "execution_count": null,
      "outputs": []
    },
    {
      "cell_type": "code",
      "source": [
        "!pip install -U plotly"
      ],
      "metadata": {
        "id": "VIYz8iukNk2E"
      },
      "execution_count": null,
      "outputs": []
    },
    {
      "cell_type": "code",
      "source": [
        "import pandas as pd\n",
        "import plotly.express as px"
      ],
      "metadata": {
        "id": "2R7sfH-YN3uR"
      },
      "execution_count": null,
      "outputs": []
    },
    {
      "cell_type": "code",
      "source": [
        "df.head()"
      ],
      "metadata": {
        "id": "0HYeytv7ON1C"
      },
      "execution_count": null,
      "outputs": []
    },
    {
      "cell_type": "code",
      "source": [
        "px.histogram(df, y='capital_social_empresa', x='uf')"
      ],
      "metadata": {
        "id": "rhwwh22QOTpg"
      },
      "execution_count": null,
      "outputs": []
    },
    {
      "cell_type": "code",
      "source": [
        "px.histogram(df, x='capital_social_empresa', y='uf')"
      ],
      "metadata": {
        "id": "D7ISBLPyeUW3"
      },
      "execution_count": null,
      "outputs": []
    },
    {
      "cell_type": "code",
      "source": [
        "px.histogram(df, x='uf', color= 'capital_social_empresa', nbins=(100), histnorm= 'density')"
      ],
      "metadata": {
        "id": "jni_qtheO1tT"
      },
      "execution_count": null,
      "outputs": []
    },
    {
      "cell_type": "code",
      "source": [
        "px.histogram(df, x='uf', color= 'capital_social_empresa', nbins=(100), histnorm= 'probability density')"
      ],
      "metadata": {
        "id": "sGckDV5UO9p6"
      },
      "execution_count": null,
      "outputs": []
    },
    {
      "cell_type": "code",
      "source": [
        "px.histogram(df, x='uf', color= 'capital_social_empresa', nbins=(100), histnorm= 'probability density', marginal= 'rug')"
      ],
      "metadata": {
        "id": "tPjCkxmLf8f8"
      },
      "execution_count": null,
      "outputs": []
    },
    {
      "cell_type": "code",
      "source": [
        "px.histogram(df, x='uf', color= 'capital_social_empresa', nbins=(100), histnorm= 'probability density', marginal= 'box', title= 'Relatório de Inversão' )"
      ],
      "metadata": {
        "id": "PiFphq4gf8YI"
      },
      "execution_count": null,
      "outputs": []
    },
    {
      "cell_type": "markdown",
      "source": [
        "Distribução\n"
      ],
      "metadata": {
        "id": "4HZtcTOdg8GM"
      }
    },
    {
      "cell_type": "code",
      "source": [
        "import plotly.figure_factory as ff\n",
        "import numpy as np"
      ],
      "metadata": {
        "id": "eSpnvNOuf8VG"
      },
      "execution_count": null,
      "outputs": []
    },
    {
      "cell_type": "code",
      "source": [
        "x= np.random.randn(1000)\n"
      ],
      "metadata": {
        "id": "5-eqvD3jhevh"
      },
      "execution_count": null,
      "outputs": []
    },
    {
      "cell_type": "code",
      "source": [
        "ff.create_distplot([x], group_labels=['Normal'])"
      ],
      "metadata": {
        "id": "5pr3XqRChSEU"
      },
      "execution_count": null,
      "outputs": []
    },
    {
      "cell_type": "code",
      "source": [
        "x1= np.random.randn(1000) + 5\n",
        "x2= np.random.randn(1000) + 15"
      ],
      "metadata": {
        "id": "9jZhYcCthSA-"
      },
      "execution_count": null,
      "outputs": []
    },
    {
      "cell_type": "code",
      "source": [
        "ff.create_distplot([x1, x2], group_labels=['Normal 1', 'Normal 2'])"
      ],
      "metadata": {
        "id": "qa5W2rsRhR8o"
      },
      "execution_count": null,
      "outputs": []
    },
    {
      "cell_type": "code",
      "source": [
        "df.head()"
      ],
      "metadata": {
        "id": "vHZnlkovjP6Z"
      },
      "execution_count": null,
      "outputs": []
    },
    {
      "cell_type": "code",
      "source": [
        "ff.create_distplot([df['capital_social_empresa'] ], group_labels=['capital_social_empresa ditribuition'])"
      ],
      "metadata": {
        "id": "iqnMZXndf8R1"
      },
      "execution_count": null,
      "outputs": []
    },
    {
      "cell_type": "code",
      "source": [],
      "metadata": {
        "id": "X9POxg9nf8PE"
      },
      "execution_count": null,
      "outputs": []
    },
    {
      "cell_type": "code",
      "source": [],
      "metadata": {
        "id": "2-KPzYqUf8Lv"
      },
      "execution_count": null,
      "outputs": []
    },
    {
      "cell_type": "code",
      "source": [],
      "metadata": {
        "id": "ih7mq2bdf8HQ"
      },
      "execution_count": null,
      "outputs": []
    },
    {
      "cell_type": "code",
      "source": [],
      "metadata": {
        "id": "OZz2xNmZf72Y"
      },
      "execution_count": null,
      "outputs": []
    },
    {
      "cell_type": "code",
      "source": [],
      "metadata": {
        "id": "YBA_7yMkfnvN"
      },
      "execution_count": null,
      "outputs": []
    }
  ]
}